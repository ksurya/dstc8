{
 "cells": [
  {
   "cell_type": "code",
   "execution_count": 1,
   "metadata": {},
   "outputs": [],
   "source": [
    "import sys\n",
    "import math\n",
    "import mmap\n",
    "import posix_ipc as ipc\n",
    "import torch\n",
    "\n",
    "from io import BytesIO"
   ]
  },
  {
   "cell_type": "code",
   "execution_count": 4,
   "metadata": {},
   "outputs": [
    {
     "data": {
      "text/plain": [
       "'train_ds.pkl'"
      ]
     },
     "execution_count": 4,
     "metadata": {},
     "output_type": "execute_result"
    }
   ],
   "source": [
    "def save_to_shared_memory(filename, name):\n",
    "    with open(filename, \"rb\") as f:\n",
    "        obj = f.read()\n",
    "    size = sys.getsizeof(obj)\n",
    "    pages = math.ceil(size / ipc.PAGE_SIZE)\n",
    "    try:\n",
    "        memory = ipc.SharedMemory(name=name, flags=ipc.O_CREAT, size=ipc.PAGE_SIZE * pages)\n",
    "    except ValueError: # retry once more\n",
    "        memory = ipc.SharedMemory(name=name, flags=ipc.O_CREAT, size=ipc.PAGE_SIZE * pages)\n",
    "    io = mmap.mmap(fileno=memory.fd, length=memory.size, flags=mmap.MAP_SHARED, \n",
    "                   prot=mmap.PROT_WRITE)\n",
    "    io.write(obj)\n",
    "    io.close()\n",
    "    memory.close_fd()\n",
    "    return memory.name\n",
    "\n",
    "save_to_shared_memory(\"data/preprocessed/vocab.pkl\", \"vocab.pkl\")\n",
    "save_to_shared_memory(\"data/preprocessed/train_ds.pkl\", \"train_ds.pkl\")"
   ]
  },
  {
   "cell_type": "code",
   "execution_count": 5,
   "metadata": {},
   "outputs": [],
   "source": [
    "def read_from_shared_memory(name):\n",
    "    memory = ipc.SharedMemory(name=name)\n",
    "    io = mmap.mmap(memory.fd, memory.size, mmap.MAP_SHARED, mmap.PROT_READ)\n",
    "    bytes_obj = BytesIO(io.read())\n",
    "    io.close()\n",
    "    memory.close_fd()\n",
    "    return bytes_obj\n",
    "\n",
    "test = torch.load(read_from_shared_memory(\"vocab.pkl\"))"
   ]
  },
  {
   "cell_type": "code",
   "execution_count": 23,
   "metadata": {},
   "outputs": [
    {
     "name": "stdout",
     "output_type": "stream",
     "text": [
      "WARN: shared memory not found\n"
     ]
    }
   ],
   "source": [
    "def release_process_from_shared_memory(memory_identifier):\n",
    "    try:\n",
    "        shared_mem = ipc.SharedMemory(memory_identifier)\n",
    "        shared_mem.unlink()\n",
    "        # will be destructed if every process `unlinked`\n",
    "        print(\"INFO: shared memory detached from process\")\n",
    "    except ipc.ExistentialError:\n",
    "        print(\"WARN: shared memory not found\")\n",
    "        pass\n",
    "\n",
    "release_process_from_shared_memory(\"vocab.pkl\")"
   ]
  }
 ],
 "metadata": {
  "kernelspec": {
   "display_name": "Python 3",
   "language": "python",
   "name": "python3"
  },
  "language_info": {
   "codemirror_mode": {
    "name": "ipython",
    "version": 3
   },
   "file_extension": ".py",
   "mimetype": "text/x-python",
   "name": "python",
   "nbconvert_exporter": "python",
   "pygments_lexer": "ipython3",
   "version": "3.7.3"
  }
 },
 "nbformat": 4,
 "nbformat_minor": 2
}
