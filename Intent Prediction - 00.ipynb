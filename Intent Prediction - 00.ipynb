{
 "cells": [
  {
   "cell_type": "code",
   "execution_count": 1,
   "metadata": {},
   "outputs": [],
   "source": [
    "%load_ext autoreload"
   ]
  },
  {
   "cell_type": "code",
   "execution_count": 2,
   "metadata": {
    "scrolled": false
   },
   "outputs": [],
   "source": [
    "%autoreload 2\n",
    "from tqdm import tqdm_notebook as tqdm\n",
    "from readers import DialogueReader\n",
    "from allennlp.data import Vocabulary\n",
    "from allennlp.data.iterators import BucketIterator, BasicIterator\n",
    "import torch\n",
    "\n",
    "# read data\n",
    "train_ds = torch.load(\"data/preprocessed/train_ds.pkl\")\n",
    "vocab = torch.load(\"data/preprocessed/vocab.pkl\")\n",
    "\n",
    "# litmus test\n",
    "iterator = BasicIterator(batch_size=5)\n",
    "iterator.index_with(vocab)\n",
    "batch = next(iter(iterator(train_ds)))"
   ]
  },
  {
   "cell_type": "code",
   "execution_count": 5,
   "metadata": {},
   "outputs": [
    {
     "data": {
      "text/plain": [
       "torch.Size([5, 14, 25])"
      ]
     },
     "execution_count": 5,
     "metadata": {},
     "output_type": "execute_result"
    }
   ],
   "source": [
    "batch[\"usr_utter\"][\"tokens\"].shape"
   ]
  },
  {
   "cell_type": "code",
   "execution_count": 59,
   "metadata": {},
   "outputs": [],
   "source": [
    "%autoreload 2\n",
    "import torch\n",
    "from allennlp.nn.util import move_to_device\n",
    "from models import UserIntentPredictor\n",
    "from train import trainer"
   ]
  },
  {
   "cell_type": "code",
   "execution_count": 63,
   "metadata": {},
   "outputs": [],
   "source": [
    "sample_train_ds = train_ds[:1]"
   ]
  },
  {
   "cell_type": "code",
   "execution_count": null,
   "metadata": {
    "scrolled": false
   },
   "outputs": [
    {
     "name": "stdout",
     "output_type": "stream",
     "text": [
      "Iteration: 0, Epoch: 10, Loss: 173.0141400694847\n",
      "Iteration: 0, Epoch: 20, Loss: 168.58090496063232\n",
      "Iteration: 0, Epoch: 30, Loss: 147.61685341596603\n"
     ]
    }
   ],
   "source": [
    "model = UserIntentPredictor(vocab)\n",
    "optim = torch.optim.Adam(model.parameters(), lr=1e-5)\n",
    "iterator = BasicIterator(batch_size=1)\n",
    "iterator.index_with(vocab)\n",
    "\n",
    "trainer(\n",
    "    model=model,\n",
    "    optim=optim,\n",
    "    iterator=iterator,\n",
    "    train_dataset=sample_train_ds,\n",
    "    num_epochs=2,\n",
    "    cuda_device=0,\n",
    "    print_every=10\n",
    ")"
   ]
  }
 ],
 "metadata": {
  "kernelspec": {
   "display_name": "Python 3",
   "language": "python",
   "name": "python3"
  },
  "language_info": {
   "codemirror_mode": {
    "name": "ipython",
    "version": 3
   },
   "file_extension": ".py",
   "mimetype": "text/x-python",
   "name": "python",
   "nbconvert_exporter": "python",
   "pygments_lexer": "ipython3",
   "version": "3.7.3"
  }
 },
 "nbformat": 4,
 "nbformat_minor": 2
}
