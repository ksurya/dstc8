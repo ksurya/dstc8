{
 "cells": [
  {
   "cell_type": "code",
   "execution_count": 1,
   "metadata": {},
   "outputs": [],
   "source": [
    "%load_ext autoreload"
   ]
  },
  {
   "cell_type": "code",
   "execution_count": 2,
   "metadata": {},
   "outputs": [],
   "source": [
    "%autoreload 2"
   ]
  },
  {
   "cell_type": "code",
   "execution_count": 3,
   "metadata": {
    "scrolled": false
   },
   "outputs": [],
   "source": [
    "from tqdm import tqdm_notebook as tqdm\n",
    "from readers import DialogueReader\n",
    "from allennlp.data import Vocabulary\n",
    "from allennlp.data.iterators import BucketIterator, BasicIterator\n",
    "\n",
    "import torch\n",
    "\n",
    "# read data\n",
    "train_ds = torch.load(\"data/preprocessed/train_ds.pkl\")\n",
    "vocab = torch.load(\"data/preprocessed/vocab.pkl\")\n",
    "\n",
    "# litmus test\n",
    "iterator = BasicIterator(batch_size=5)\n",
    "iterator.index_with(vocab)\n",
    "batch = next(iter(iterator(train_ds)))"
   ]
  },
  {
   "cell_type": "code",
   "execution_count": 4,
   "metadata": {},
   "outputs": [],
   "source": [
    "from allennlp.training import Trainer\n",
    "from models import UserIntentPredictor\n",
    "from train import DialogIterator"
   ]
  },
  {
   "cell_type": "code",
   "execution_count": 5,
   "metadata": {},
   "outputs": [],
   "source": [
    "iterator = BasicIterator(batch_size=64)\n",
    "iterator.index_with(vocab)"
   ]
  },
  {
   "cell_type": "code",
   "execution_count": 6,
   "metadata": {},
   "outputs": [],
   "source": [
    "model = UserIntentPredictor(vocab).to(0)\n",
    "optim = torch.optim.Adam(model.parameters(), lr=1e-5)"
   ]
  },
  {
   "cell_type": "code",
   "execution_count": null,
   "metadata": {
    "scrolled": false
   },
   "outputs": [
    {
     "name": "stderr",
     "output_type": "stream",
     "text": [
      "accuracy: 0.7545, loss: 0.1041 ||:  23%|██▎       | 324/1405 [06:33<20:10,  1.12s/it] "
     ]
    }
   ],
   "source": [
    "trainer = Trainer(\n",
    "    model=model,\n",
    "    optimizer=optim,\n",
    "    iterator=DialogIterator(iterator),\n",
    "    train_dataset=train_ds,\n",
    "    num_epochs=1,\n",
    "    cuda_device=[0,1,2,3],\n",
    ")\n",
    "\n",
    "trainer.train()"
   ]
  }
 ],
 "metadata": {
  "kernelspec": {
   "display_name": "Python 3",
   "language": "python",
   "name": "python3"
  },
  "language_info": {
   "codemirror_mode": {
    "name": "ipython",
    "version": 3
   },
   "file_extension": ".py",
   "mimetype": "text/x-python",
   "name": "python",
   "nbconvert_exporter": "python",
   "pygments_lexer": "ipython3",
   "version": "3.7.3"
  }
 },
 "nbformat": 4,
 "nbformat_minor": 2
}
