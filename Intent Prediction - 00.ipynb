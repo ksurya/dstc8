{
 "cells": [
  {
   "cell_type": "code",
   "execution_count": 1,
   "metadata": {},
   "outputs": [],
   "source": [
    "%load_ext autoreload"
   ]
  },
  {
   "cell_type": "code",
   "execution_count": 2,
   "metadata": {},
   "outputs": [],
   "source": [
    "%autoreload 2"
   ]
  },
  {
   "cell_type": "code",
   "execution_count": 3,
   "metadata": {
    "scrolled": false
   },
   "outputs": [],
   "source": [
    "from readers import DialogueReader\n",
    "from allennlp.data import Vocabulary\n",
    "from allennlp.data.iterators import BucketIterator, BasicIterator\n",
    "\n",
    "import torch\n",
    "\n",
    "# read data\n",
    "train_ds = torch.load(\"data/preprocessed/train_ds.pkl\")\n",
    "vocab = torch.load(\"data/preprocessed/vocab.pkl\")\n",
    "\n",
    "# litmus test\n",
    "iterator = BasicIterator(batch_size=5)\n",
    "iterator.index_with(vocab)\n",
    "batch = next(iter(iterator(train_ds)))"
   ]
  },
  {
   "cell_type": "code",
   "execution_count": 4,
   "metadata": {},
   "outputs": [],
   "source": [
    "from models import UserIntentPredictor\n",
    "from allennlp.training import Trainer\n",
    "from train import DialogIterator"
   ]
  },
  {
   "cell_type": "code",
   "execution_count": 5,
   "metadata": {},
   "outputs": [],
   "source": [
    "iterator = BasicIterator(batch_size=32)\n",
    "iterator.index_with(vocab)\n",
    "iterator = DialogIterator(iterator)"
   ]
  },
  {
   "cell_type": "code",
   "execution_count": 58,
   "metadata": {
    "scrolled": true
   },
   "outputs": [
    {
     "data": {
      "text/plain": [
       "2419"
      ]
     },
     "execution_count": 58,
     "metadata": {},
     "output_type": "execute_result"
    }
   ],
   "source": [
    "sample_ds = []\n",
    "for instance in train_ds:\n",
    "    if \"Restaurants_1\" in instance.fields[\"service\"].metadata:\n",
    "        sample_ds.append(instance)\n",
    "len(sample_ds)"
   ]
  },
  {
   "cell_type": "code",
   "execution_count": null,
   "metadata": {
    "scrolled": false
   },
   "outputs": [
    {
     "name": "stdout",
     "output_type": "stream",
     "text": [
      "Initializing bias/weights of  l0.weight_ih_l0\n",
      "Initializing bias/weights of  l0.weight_hh_l0\n",
      "Initializing bias/weights of  l0.bias_ih_l0\n",
      "Initializing bias/weights of  l0.bias_hh_l0\n",
      "Initializing bias/weights of  l1.weight_ih_l0\n",
      "Initializing bias/weights of  l1.weight_hh_l0\n",
      "Initializing bias/weights of  l1.bias_ih_l0\n",
      "Initializing bias/weights of  l1.bias_hh_l0\n",
      "Initializing bias/weights of  l2.l0.weight_ih_l0\n",
      "Initializing bias/weights of  l2.l0.weight_hh_l0\n",
      "Initializing bias/weights of  l2.l0.bias_ih_l0\n",
      "Initializing bias/weights of  l2.l0.bias_hh_l0\n",
      "Initializing bias/weights of  l3.weight\n",
      "Initializing bias/weights of  l3.bias\n"
     ]
    },
    {
     "data": {
      "application/vnd.jupyter.widget-view+json": {
       "model_id": "845c78ce053b4e05baf65fe0bfa55a36",
       "version_major": 2,
       "version_minor": 0
      },
      "text/plain": [
       "HBox(children=(IntProgress(value=0, max=1928), HTML(value='')))"
      ]
     },
     "metadata": {},
     "output_type": "display_data"
    }
   ],
   "source": [
    "model = UserIntentPredictor(vocab).to(0)\n",
    "optim = torch.optim.Adam(model.parameters(), lr=1e-3)\n",
    "\n",
    "trainer = Trainer(\n",
    "    model=model,\n",
    "    optimizer=optim,\n",
    "    iterator=iterator,\n",
    "    train_dataset=sample_ds,\n",
    "    num_epochs=2,\n",
    "    cuda_device=0,\n",
    ")\n",
    "\n",
    "trainer.train()"
   ]
  },
  {
   "cell_type": "code",
   "execution_count": null,
   "metadata": {},
   "outputs": [],
   "source": []
  }
 ],
 "metadata": {
  "kernelspec": {
   "display_name": "Python 3",
   "language": "python",
   "name": "python3"
  },
  "language_info": {
   "codemirror_mode": {
    "name": "ipython",
    "version": 3
   },
   "file_extension": ".py",
   "mimetype": "text/x-python",
   "name": "python",
   "nbconvert_exporter": "python",
   "pygments_lexer": "ipython3",
   "version": "3.7.3"
  }
 },
 "nbformat": 4,
 "nbformat_minor": 2
}
