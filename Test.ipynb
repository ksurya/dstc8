{
 "cells": [
  {
   "cell_type": "code",
   "execution_count": 1,
   "metadata": {},
   "outputs": [],
   "source": [
    "%load_ext autoreload"
   ]
  },
  {
   "cell_type": "code",
   "execution_count": null,
   "metadata": {
    "scrolled": false
   },
   "outputs": [
    {
     "name": "stdout",
     "output_type": "stream",
     "text": [
      "Automatic pdb calling has been turned OFF\n"
     ]
    },
    {
     "name": "stderr",
     "output_type": "stream",
     "text": [
      "1288it [00:42, 28.63it/s]"
     ]
    }
   ],
   "source": [
    "%autoreload\n",
    "%pdb off\n",
    "from tqdm import tqdm_notebook as tqdm\n",
    "from allennlp.data import Vocabulary\n",
    "from allennlp.data.iterators import BucketIterator, BasicIterator\n",
    "from readers import DialogueReader\n",
    "\n",
    "\n",
    "r = DialogueReader()\n",
    "ds = r.read(\"data/train\")\n",
    "\n",
    "v = Vocabulary.from_instances(ds)\n",
    "it = BasicIterator(batch_size=5)\n",
    "it.index_with(v)\n",
    "batch = next(iter(it(ds)))\n",
    "batch.keys()"
   ]
  },
  {
   "cell_type": "code",
   "execution_count": 26,
   "metadata": {},
   "outputs": [
    {
     "data": {
      "text/plain": [
       "[array(['RentalCars_1', 'Buses_1', 'Flights_2'], dtype='<U12'),\n",
       " array(['RentalCars_1', 'Buses_2', 'Flights_1'], dtype='<U12'),\n",
       " array(['RentalCars_1', 'Buses_2', 'Flights_1'], dtype='<U12'),\n",
       " array(['RentalCars_1', 'Buses_2', 'Flights_1'], dtype='<U12'),\n",
       " array(['RentalCars_1', 'Buses_2', 'Flights_1'], dtype='<U12')]"
      ]
     },
     "execution_count": 26,
     "metadata": {},
     "output_type": "execute_result"
    }
   ],
   "source": [
    "batch[\"service\"]"
   ]
  },
  {
   "cell_type": "code",
   "execution_count": 22,
   "metadata": {},
   "outputs": [
    {
     "data": {
      "text/plain": [
       "[[['GetCarsAvailable', 'ReserveCar'],\n",
       "  ['FindBus', 'BuyBusTicket'],\n",
       "  ['SearchOnewayFlight', 'SearchRoundtripFlights']],\n",
       " [['FindEvents', 'GetEventDates', 'BuyEventTickets'],\n",
       "  ['ReserveRestaurant', 'FindRestaurants']],\n",
       " [['GetCarsAvailable', 'ReserveCar'],\n",
       "  ['FindBus', 'BuyBusTicket'],\n",
       "  ['SearchOnewayFlight', 'SearchRoundtripFlights']],\n",
       " [['GetCarsAvailable', 'ReserveCar'],\n",
       "  ['FindBus', 'BuyBusTicket'],\n",
       "  ['SearchOnewayFlight',\n",
       "   'SearchRoundtripFlights',\n",
       "   'ReserveOnewayFlight',\n",
       "   'ReserveRoundtripFlights']],\n",
       " [['GetCarsAvailable', 'ReserveCar'],\n",
       "  ['FindBus', 'BuyBusTicket'],\n",
       "  ['SearchOnewayFlight',\n",
       "   'SearchRoundtripFlights',\n",
       "   'ReserveOnewayFlight',\n",
       "   'ReserveRoundtripFlights']]]"
      ]
     },
     "execution_count": 22,
     "metadata": {},
     "output_type": "execute_result"
    }
   ],
   "source": [
    "batch[\"intent\"]"
   ]
  }
 ],
 "metadata": {
  "kernelspec": {
   "display_name": "Python 3",
   "language": "python",
   "name": "python3"
  },
  "language_info": {
   "codemirror_mode": {
    "name": "ipython",
    "version": 3
   },
   "file_extension": ".py",
   "mimetype": "text/x-python",
   "name": "python",
   "nbconvert_exporter": "python",
   "pygments_lexer": "ipython3",
   "version": "3.7.3"
  }
 },
 "nbformat": 4,
 "nbformat_minor": 2
}
