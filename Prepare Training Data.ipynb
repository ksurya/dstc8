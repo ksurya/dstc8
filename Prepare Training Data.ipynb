{
 "cells": [
  {
   "cell_type": "code",
   "execution_count": 1,
   "metadata": {},
   "outputs": [],
   "source": [
    "%load_ext autoreload"
   ]
  },
  {
   "cell_type": "code",
   "execution_count": 3,
   "metadata": {
    "scrolled": false
   },
   "outputs": [
    {
     "name": "stderr",
     "output_type": "stream",
     "text": [
      "16142it [07:57, 33.82it/s]\n",
      "100%|██████████| 16142/16142 [00:04<00:00, 3423.99it/s]\n"
     ]
    },
    {
     "data": {
      "text/plain": [
       "dict_keys(['dialogue_id', 'speaker', 'utter', 'sys_utter', 'usr_utter', 'service', 'service_desc', 'service_exist', 'intent', 'intent_desc', 'intent_exist', 'slots', 'slots_desc', 'slots_iscat'])"
      ]
     },
     "execution_count": 3,
     "metadata": {},
     "output_type": "execute_result"
    }
   ],
   "source": [
    "%autoreload\n",
    "from tqdm import tqdm_notebook as tqdm\n",
    "from allennlp.data import Vocabulary\n",
    "from allennlp.data.iterators import BucketIterator, BasicIterator\n",
    "from readers import DialogueReader\n",
    "\n",
    "\n",
    "reader = DialogueReader()\n",
    "train_ds = reader.read(\"data/train\")\n",
    "\n",
    "vocab = Vocabulary.from_instances(train_ds)\n",
    "\n",
    "# litmus test\n",
    "it = BasicIterator(batch_size=5)\n",
    "it.index_with(vocab)\n",
    "batch = next(iter(it(train_ds)))\n",
    "batch.keys()"
   ]
  },
  {
   "cell_type": "code",
   "execution_count": 4,
   "metadata": {},
   "outputs": [],
   "source": [
    "# save dataset to file\n",
    "import torch\n",
    "\n",
    "torch.save(vocab, \"data/preprocessed/vocab.pkl\")\n",
    "torch.save(train_ds, \"data/preprocessed/train_ds.pkl\")"
   ]
  },
  {
   "cell_type": "code",
   "execution_count": 6,
   "metadata": {},
   "outputs": [
    {
     "data": {
      "text/plain": [
       "dict_keys(['dialogue_id', 'speaker', 'utter', 'sys_utter', 'usr_utter', 'service', 'service_desc', 'service_exist', 'intent', 'intent_desc', 'intent_exist', 'slots', 'slots_desc', 'slots_iscat'])"
      ]
     },
     "execution_count": 6,
     "metadata": {},
     "output_type": "execute_result"
    }
   ],
   "source": [
    "# Litmus test\n",
    "v2 = torch.load(\"data/preprocessed/vocab.pkl\")\n",
    "ds2 = torch.load(\"data/preprocessed/train_ds.pkl\")\n",
    "\n",
    "it2 = BasicIterator(batch_size=5)\n",
    "it2.index_with(v2)\n",
    "batch = next(iter(it(ds2)))\n",
    "batch.keys()"
   ]
  },
  {
   "cell_type": "code",
   "execution_count": 9,
   "metadata": {},
   "outputs": [
    {
     "data": {
      "text/plain": [
       "tensor([  101,  1045,  2052,  2066,  2000,  3422,  1996,  3185,  1996, 10530,\n",
       "         2085,   102,     0,     0,     0,     0,     0,     0,     0,     0,\n",
       "            0,     0,     0,     0,     0,     0,     0])"
      ]
     },
     "execution_count": 9,
     "metadata": {},
     "output_type": "execute_result"
    }
   ],
   "source": [
    "batch[\"usr_utter\"][\"tokens\"][0][0]"
   ]
  }
 ],
 "metadata": {
  "kernelspec": {
   "display_name": "Python 3",
   "language": "python",
   "name": "python3"
  },
  "language_info": {
   "codemirror_mode": {
    "name": "ipython",
    "version": 3
   },
   "file_extension": ".py",
   "mimetype": "text/x-python",
   "name": "python",
   "nbconvert_exporter": "python",
   "pygments_lexer": "ipython3",
   "version": "3.7.3"
  }
 },
 "nbformat": 4,
 "nbformat_minor": 2
}
